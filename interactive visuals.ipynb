{
 "cells": [
  {
   "cell_type": "code",
   "execution_count": 1,
   "id": "8ce23ecd",
   "metadata": {
    "pycharm": {
     "name": "#%%\n"
    }
   },
   "outputs": [],
   "source": [
    "import plotly.graph_objects as go\n",
    "import networkx as nx\n",
    "import dash\n",
    "from dash import dcc\n",
    "from dash import html\n",
    "import json\n",
    "from dash.dependencies import Input, Output\n",
    "import math"
   ]
  },
  {
   "cell_type": "code",
   "execution_count": 2,
   "id": "c0eeec8c",
   "metadata": {
    "pycharm": {
     "name": "#%%\n"
    }
   },
   "outputs": [],
   "source": [
    "def load_json(json_path= 'data.json'):\n",
    "    with open(json_path, 'rb') as j:\n",
    "        d = json.load(j)\n",
    "    return d"
   ]
  },
  {
   "cell_type": "code",
   "execution_count": 3,
   "id": "1425c8db",
   "metadata": {
    "pycharm": {
     "name": "#%%\n"
    }
   },
   "outputs": [],
   "source": [
    "def create_graph(data):\n",
    "    G = nx.DiGraph()\n",
    "    G.add_nodes_from(data[\"nodes\"])\n",
    "    edges = list(map(tuple, data[\"edges\"]))\n",
    "    G.add_edges_from(edges)\n",
    "    return G"
   ]
  },
  {
   "cell_type": "code",
   "execution_count": 4,
   "id": "0697f9cb",
   "metadata": {
    "pycharm": {
     "name": "#%%\n"
    }
   },
   "outputs": [],
   "source": [
    "def create_edges_annots(graph, node_positions):  \n",
    "    edges = []\n",
    "    \n",
    "    for edge in graph.edges():\n",
    "        \n",
    "        x0 = node_positions[edge[0]][0]\n",
    "        y0 = node_positions[edge[0]][1]\n",
    "        x1 = node_positions[edge[1]][0]\n",
    "        y1 = node_positions[edge[1]][1]\n",
    "                \n",
    "        length = math.sqrt((x1-x0)**2 + (y1-y0)**2)\n",
    "        dotSizeConversion = .0565/20\n",
    "        convertedDotDiameter = 10 * dotSizeConversion\n",
    "        lengthFracReduction = convertedDotDiameter / length\n",
    "        lengthFrac = 0.9 - lengthFracReduction\n",
    "        \n",
    "        skipY = (y1-y0) * (1-lengthFrac)\n",
    "        skipX = (x1-x0) * (1-lengthFrac)\n",
    "        \n",
    "        x0 = x0 + skipX/2\n",
    "        x1 = x1 - skipX/2\n",
    "        y0 = y0 + skipY/2\n",
    "        y1 = y1 - skipY/2\n",
    "        \n",
    "        edges.append(\n",
    "                dict(ax=x0, ay=y0, \n",
    "                     x=x1, y=y1,\n",
    "                    axref='x', ayref='y',\n",
    "                    showarrow=True, arrowhead=1,\n",
    "                    arrowcolor=\"black\", arrowsize=1.5,\n",
    "                    arrowwidth=2))\n",
    "        \n",
    "    return edges "
   ]
  },
  {
   "cell_type": "code",
   "execution_count": 5,
   "id": "8a1edc44",
   "metadata": {
    "pycharm": {
     "name": "#%%\n"
    }
   },
   "outputs": [],
   "source": [
    "def create_node_traces(graph,node_positions, data):    \n",
    "    node_x_green = []\n",
    "    node_y_green = []\n",
    "    node_x_yellow = []\n",
    "    node_y_yellow = []\n",
    "    node_x_red = []\n",
    "    node_y_red = []\n",
    "    node_x_blue = []\n",
    "    node_y_blue = []\n",
    "    \n",
    "    for ix, node in enumerate(graph.nodes()):\n",
    "        if data[\"status\"][ix] == \"DONE\":\n",
    "            x, y = node_positions[node]\n",
    "            node_x_green.append(x)\n",
    "            node_y_green.append(y)\n",
    "            \n",
    "        elif data[\"status\"][ix] == \"PENDING\":\n",
    "            x, y = node_positions[node]\n",
    "            node_x_yellow.append(x)\n",
    "            node_y_yellow.append(y)\n",
    "            \n",
    "        elif data[\"status\"][ix] == \"FAILED\":\n",
    "            x, y = node_positions[node]\n",
    "            node_x_red.append(x)\n",
    "            node_y_red.append(y)\n",
    "            \n",
    "        elif data[\"status\"][ix] == \"RUNNING\":\n",
    "            x, y = node_positions[node]\n",
    "            node_x_blue.append(x)\n",
    "            node_y_blue.append(y)\n",
    "            \n",
    "    \n",
    "\n",
    "    node_trace_green= go.Scatter(\n",
    "        x=node_x_green, y=node_y_green,\n",
    "        mode='markers',\n",
    "        marker_symbol = \"circle\",\n",
    "        hoverinfo='none',\n",
    "        marker_size=60,\n",
    "        marker_color=\"green\",\n",
    "        line_width=5,\n",
    "        name = \"Done\"\n",
    "    )\n",
    "    \n",
    "    node_trace_yellow = go.Scatter(\n",
    "        x=node_x_yellow, y=node_y_yellow,\n",
    "        mode='markers',\n",
    "        hoverinfo='none',\n",
    "        marker_symbol = \"circle\",\n",
    "        marker_size=60,\n",
    "        marker_color=\"yellow\",\n",
    "        line_width=5,\n",
    "        name = \"Pending\"\n",
    "    )\n",
    "    \n",
    "    node_trace_red = go.Scatter(\n",
    "        x=node_x_red, y=node_y_red,\n",
    "        mode='markers',\n",
    "        hoverinfo='none',\n",
    "        marker_symbol = \"circle\",\n",
    "        marker_size=60,\n",
    "        marker_color=\"red\",\n",
    "        line_width=5,\n",
    "        name = \"Failed\"\n",
    "    )\n",
    "    node_trace_blue = go.Scatter(\n",
    "        x=node_x_blue, y=node_y_blue,\n",
    "        mode='markers',\n",
    "        hoverinfo='none',\n",
    "        marker_symbol = \"circle\",\n",
    "        marker_size=60,\n",
    "        marker_color=\"lightskyblue\",\n",
    "        line_width=5,\n",
    "        name = \"Running\"\n",
    "    )\n",
    "        \n",
    "    return [node_trace_yellow, node_trace_red, node_trace_green, node_trace_blue]"
   ]
  },
  {
   "cell_type": "code",
   "execution_count": 6,
   "id": "25cc3a19",
   "metadata": {
    "pycharm": {
     "name": "#%%\n"
    }
   },
   "outputs": [],
   "source": [
    "def create_node_annots(layout):\n",
    "    names = []\n",
    "    for i in layout.keys():\n",
    "        names.append(\n",
    "            dict(text = i, \n",
    "                showarrow = False,\n",
    "                x = layout[i][0],\n",
    "                y = layout[i][1],\n",
    "                font = dict(\n",
    "                    color = 'black',\n",
    "                    size = 15\n",
    "                )\n",
    "            ) \n",
    "        )\n",
    "    return names"
   ]
  },
  {
   "cell_type": "code",
   "execution_count": 7,
   "id": "a4a82be8",
   "metadata": {
    "pycharm": {
     "name": "#%%\n"
    },
    "scrolled": true
   },
   "outputs": [
    {
     "name": "stdout",
     "output_type": "stream",
     "text": [
      "Dash is running on http://127.0.0.1:8050/\n",
      "\n",
      " * Serving Flask app '__main__' (lazy loading)\n",
      " * Environment: production\n",
      "\u001B[31m   WARNING: This is a development server. Do not use it in a production deployment.\u001B[0m\n",
      "\u001B[2m   Use a production WSGI server instead.\u001B[0m\n",
      " * Debug mode: off\n"
     ]
    },
    {
     "name": "stderr",
     "output_type": "stream",
     "text": [
      " * Running on http://127.0.0.1:8050 (Press CTRL+C to quit)\n",
      "127.0.0.1 - - [11/Jul/2022 15:23:54] \"GET / HTTP/1.1\" 200 -\n",
      "127.0.0.1 - - [11/Jul/2022 15:23:56] \"GET /_dash-layout HTTP/1.1\" 200 -\n",
      "127.0.0.1 - - [11/Jul/2022 15:23:56] \"GET /_dash-dependencies HTTP/1.1\" 200 -\n",
      "127.0.0.1 - - [11/Jul/2022 15:23:57] \"\u001B[36mGET /_dash-component-suites/dash/dcc/async-dropdown.js HTTP/1.1\u001B[0m\" 304 -\n",
      "127.0.0.1 - - [11/Jul/2022 15:23:57] \"\u001B[36mGET /_dash-component-suites/dash/dcc/async-graph.js HTTP/1.1\u001B[0m\" 304 -\n",
      "127.0.0.1 - - [11/Jul/2022 15:23:57] \"\u001B[36mGET /_dash-component-suites/dash/dcc/async-plotlyjs.js HTTP/1.1\u001B[0m\" 304 -\n",
      "127.0.0.1 - - [11/Jul/2022 15:23:57] \"POST /_dash-update-component HTTP/1.1\" 200 -\n",
      "127.0.0.1 - - [11/Jul/2022 15:23:58] \"POST /_dash-update-component HTTP/1.1\" 200 -\n",
      "127.0.0.1 - - [11/Jul/2022 15:23:59] \"POST /_dash-update-component HTTP/1.1\" 200 -\n",
      "127.0.0.1 - - [11/Jul/2022 15:24:00] \"POST /_dash-update-component HTTP/1.1\" 200 -\n",
      "127.0.0.1 - - [11/Jul/2022 15:24:01] \"POST /_dash-update-component HTTP/1.1\" 200 -\n",
      "127.0.0.1 - - [11/Jul/2022 15:24:02] \"POST /_dash-update-component HTTP/1.1\" 200 -\n",
      "127.0.0.1 - - [11/Jul/2022 15:24:03] \"POST /_dash-update-component HTTP/1.1\" 200 -\n",
      "127.0.0.1 - - [11/Jul/2022 15:24:04] \"POST /_dash-update-component HTTP/1.1\" 200 -\n",
      "127.0.0.1 - - [11/Jul/2022 15:24:05] \"POST /_dash-update-component HTTP/1.1\" 200 -\n",
      "127.0.0.1 - - [11/Jul/2022 15:24:06] \"POST /_dash-update-component HTTP/1.1\" 200 -\n"
     ]
    }
   ],
   "source": [
    "app = dash.Dash()\n",
    "data = load_json()\n",
    "\n",
    "\n",
    "app.layout= html.Div([\n",
    "    html.Div(children=[\n",
    "        html.H1(\n",
    "            children='CLS-Luigi Live Visualizer',\n",
    "            style=dict(textAlign='center')\n",
    "        )\n",
    "    ]),\n",
    "    html.Div([\n",
    "        html.Label(['Pipeline'], style={'font-weight': 'bold', \"text-align\": \"center\"}),\n",
    "        dcc.Dropdown(\n",
    "            list(range(1, len(data['pipelines'])+1, 1)),\n",
    "            1,\n",
    "            id='pipeline_index',\n",
    "        ),\n",
    "    ]),\n",
    "    dcc.Graph(id='pipelines_graph'),\n",
    "    dcc.Interval(\n",
    "        id='interval-component',\n",
    "        interval=1*1000, \n",
    "        n_intervals=0\n",
    "    )\n",
    "])\n",
    "\n",
    "@app.callback(\n",
    "    Output('pipelines_graph', 'figure'),\n",
    "    Input('pipeline_index', 'value'),\n",
    "    Input('interval-component', 'n_intervals'))\n",
    "def update_graph(pipeline_index, n):\n",
    "    data = load_json()['pipelines'][pipeline_index-1]\n",
    "    G = create_graph(data)\n",
    "    node_positions = nx.planar_layout(G)\n",
    "    \n",
    "    node_traces = create_node_traces(G, node_positions, data)\n",
    "    node_names = create_node_annots(node_positions)  \n",
    "    edges = create_edges_annots(G, node_positions)\n",
    "    \n",
    "    annots = edges + node_names\n",
    "    \n",
    "    \n",
    "    fig = go.Figure(\n",
    "        data=node_traces,\n",
    "        layout=go.Layout(\n",
    "            annotations = annots,\n",
    "            xaxis=dict(showgrid=False, zeroline=False, showticklabels=False),\n",
    "            yaxis=dict(showgrid=False, zeroline=False, showticklabels=False)\n",
    "        )\n",
    "    )\n",
    "    colors = {\n",
    "        'background': 'darkgrey'}\n",
    "    fig.update_layout(\n",
    "        plot_bgcolor=colors['background'],\n",
    "        paper_bgcolor=colors['background'],\n",
    "    )\n",
    "    return fig\n",
    "    \n",
    "app.run()"
   ]
  },
  {
   "cell_type": "code",
   "execution_count": 7,
   "id": "c5206604",
   "metadata": {
    "pycharm": {
     "name": "#%%\n"
    }
   },
   "outputs": [],
   "source": []
  }
 ],
 "metadata": {
  "kernelspec": {
   "display_name": "Python 3 (ipykernel)",
   "language": "python",
   "name": "python3"
  },
  "language_info": {
   "codemirror_mode": {
    "name": "ipython",
    "version": 3
   },
   "file_extension": ".py",
   "mimetype": "text/x-python",
   "name": "python",
   "nbconvert_exporter": "python",
   "pygments_lexer": "ipython3",
   "version": "3.10.5"
  }
 },
 "nbformat": 4,
 "nbformat_minor": 5
}